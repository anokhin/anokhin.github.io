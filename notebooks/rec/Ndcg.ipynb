{
 "cells": [
  {
   "cell_type": "code",
   "execution_count": 1,
   "metadata": {},
   "outputs": [],
   "source": [
    "import time\n",
    "import random\n",
    "import collections\n",
    "\n",
    "import numpy as np\n",
    "\n",
    "import torch\n",
    "import torch.nn as nn\n",
    "import torch.utils.data as td\n",
    "import torch.optim as to\n",
    "\n",
    "import pytorch_lightning as pl\n",
    "\n",
    "import matplotlib.pyplot as plt\n",
    "\n",
    "torch.manual_seed(31337)\n",
    "np.random.seed(31337)\n",
    "random.seed(31337)\n",
    "\n",
    "np.set_printoptions(edgeitems=100, linewidth=2000)\n",
    "torch.set_printoptions(edgeitems=100, linewidth=2000)"
   ]
  },
  {
   "cell_type": "code",
   "execution_count": 2,
   "metadata": {},
   "outputs": [],
   "source": [
    "def generate_hidden(k, n):\n",
    "    flag = np.tile(np.random.binomial(1, 0.5, size=(n, 1, 1)), (1, k, 1))\n",
    "    x = np.random.standard_normal(size=(n, k, 1))\n",
    "    return x, flag\n",
    "\n",
    "\n",
    "def prepare_data(x, flag, mode):\n",
    "    if mode == \"exp\":\n",
    "        y = np.where(flag > 0, np.exp(x), np.exp(-x))\n",
    "    elif mode == \"log\":\n",
    "        y = np.where(flag > 0, np.log(1 + np.exp(x)), np.log(1 + np.exp(-x)))\n",
    "    else:\n",
    "        raise ValueError(\"Unknown mode: \" + mode)\n",
    "    \n",
    "    return np.concatenate((x, flag, x * flag, x * x), axis=2), y\n",
    "\n",
    "\n",
    "def generate_data(k, n, mode):\n",
    "    x, flag = generate_hidden(k, n)\n",
    "    return prepare_data(x, flag, mode)"
   ]
  },
  {
   "cell_type": "code",
   "execution_count": 3,
   "metadata": {},
   "outputs": [],
   "source": [
    "class Data(pl.LightningDataModule):\n",
    "    \n",
    "    def __init__(self, k, n_train=10000, n_val=1000, n_test=1000, mode=\"exp\"):\n",
    "        super().__init__()\n",
    "        self.k = k\n",
    "        self.n_train = n_train\n",
    "        self.n_val = n_val\n",
    "        self.n_test = n_test\n",
    "        self.mode = mode\n",
    "    \n",
    "    def setup(self, stage=None):\n",
    "        x_train, y_train = generate_data(self.k, self.n_train, self.mode)\n",
    "        self.train_dataset = td.TensorDataset(\n",
    "            torch.from_numpy(x_train.astype(\"float32\")), \n",
    "            torch.from_numpy(y_train.astype(\"float32\")),\n",
    "        )\n",
    "        x_val, y_val = generate_data(self.k, self.n_val, self.mode)\n",
    "        self.val_dataset = td.TensorDataset(\n",
    "            torch.from_numpy(x_val.astype(\"float32\")), \n",
    "            torch.from_numpy(y_val.astype(\"float32\")),\n",
    "        )\n",
    "        x_test, y_test = generate_data(self.k, self.n_test, self.mode)\n",
    "        self.test_dataset = td.TensorDataset(\n",
    "            torch.from_numpy(x_test.astype(\"float32\")), \n",
    "            torch.from_numpy(y_test.astype(\"float32\")),\n",
    "        )\n",
    "        \n",
    "    def train_dataloader(self):\n",
    "        return td.DataLoader(self.train_dataset, batch_size=100, shuffle=True, num_workers=4)\n",
    "\n",
    "    def val_dataloader(self):\n",
    "        return td.DataLoader(self.val_dataset, batch_size=100, num_workers=4)\n",
    "\n",
    "    def test_dataloader(self):\n",
    "        return td.DataLoader(self.test_dataset, batch_size=100, shuffle=False, num_workers=4)"
   ]
  },
  {
   "cell_type": "code",
   "execution_count": 20,
   "metadata": {},
   "outputs": [],
   "source": [
    "class NeuralSort(nn.Module):\n",
    "\n",
    "    def __init__(self, n, tau):\n",
    "        super(NeuralSort, self).__init__()\n",
    "        self.n = n\n",
    "        self.tau = tau\n",
    "        \n",
    "        self.one = torch.ones((n, 1), dtype=torch.float32)\n",
    "        self.scaling = (n + 1 - 2 * (torch.arange(n) + 1)).type(torch.float32)\n",
    "        self.softmax = torch.nn.Softmax(-1)\n",
    "\n",
    "    def forward(self, s):\n",
    "        \"\"\"\n",
    "            s: input elements to be sorted. Shape: batch_size x n x 1\n",
    "            tau: temperature for relaxation. Scalar.\n",
    "        \"\"\"\n",
    "        A = torch.abs(s - s.permute(0, 2, 1))\n",
    "        B = torch.matmul(A, torch.matmul(self.one, torch.transpose(self.one, 0, 1)))\n",
    "        \n",
    "        C = torch.matmul(s, self.scaling.unsqueeze(0))\n",
    "        \n",
    "        P_max = (C - B).permute(0, 2, 1)\n",
    "        return self.softmax(P_max / self.tau)\n",
    "\n",
    "\n",
    "class Ndcg(nn.Module):\n",
    "    \n",
    "    def __init__(self, n, tau):\n",
    "        super(Ndcg, self).__init__()\n",
    "        self.sort = NeuralSort(n, tau)\n",
    "        self.log1pk = torch.from_numpy(np.log2(np.arange(n) + 2)).type(torch.float32)[None, :]\n",
    "\n",
    "    def forward(self, s, y):\n",
    "        y_sorted = (y * self.sort(s)).sum(axis=1)\n",
    "        # dcg = (torch.pow(2, s_sorted) - 1) / self.log1pk\n",
    "        # perfect_dcg = (torch.from_numpy(np.power(2, -np.sort(-y.squeeze(2).detach().numpy(), axis=1))) - 1) / self.log1pk\n",
    "        dcg = y_sorted / self.log1pk\n",
    "        perfect_dcg = torch.from_numpy(-np.sort(-y.squeeze(2).detach().numpy(), axis=1)) / self.log1pk\n",
    "        return dcg.sum(axis=1) / perfect_dcg.sum(axis=1)\n",
    "\n",
    "\n",
    "class Ranker(pl.LightningModule):\n",
    "    \n",
    "    def __init__(self, n, tau, loss=\"ndcg\"):\n",
    "        super(Ranker, self).__init__()\n",
    "        \n",
    "        self.layers = nn.Sequential(\n",
    "            nn.Linear(in_features=4, out_features=10, bias=True),\n",
    "            nn.ReLU(),\n",
    "            nn.Linear(in_features=10, out_features=10, bias=True),\n",
    "            nn.ReLU(),\n",
    "            nn.Linear(in_features=10, out_features=1, bias=True),\n",
    "        )\n",
    "\n",
    "        self.loss = Ndcg(n, tau) if loss == \"ndcg\" else nn.MSELoss()\n",
    "            \n",
    "    def forward(self, x):\n",
    "        return torch.exp(self.layers(x))\n",
    "\n",
    "    def step(self, batch, batch_idx, metric, prog_bar=False):\n",
    "        x, y = batch\n",
    "        \n",
    "        s = self.forward(x)\n",
    "\n",
    "        loss = self.loss(s, y).mean()\n",
    "        self.log(metric, loss, prog_bar=prog_bar)\n",
    "        \n",
    "        return loss\n",
    "\n",
    "    def training_step(self, batch, batch_idx):\n",
    "        return self.step(batch, batch_idx, \"train_loss\", True)\n",
    "    \n",
    "    def validation_step(self, batch, batch_idx):\n",
    "        return self.step(batch, batch_idx, \"val_loss\")\n",
    "    \n",
    "    def test_step(self, batch, batch_idx):\n",
    "        return self.step(batch, batch_idx, \"test_loss\")\n",
    "        \n",
    "    def configure_optimizers(self):\n",
    "        optimizer = torch.optim.Adam(self.parameters(), lr=1e-4, weight_decay=1e-6)\n",
    "        lr_scheduler = torch.optim.lr_scheduler.ReduceLROnPlateau(optimizer, min_lr=1e-6, patience=5, verbose=True)\n",
    "        scheduler = {\n",
    "            'scheduler': lr_scheduler,\n",
    "            'reduce_on_plateau': True,\n",
    "            'monitor': 'val_loss'\n",
    "        }\n",
    "        return [optimizer], [scheduler]"
   ]
  },
  {
   "cell_type": "raw",
   "metadata": {},
   "source": [
    "k = 5\n",
    "tau = 0.001\n",
    "x, y = generate_data(k, 1, \"exp\")\n",
    "ranker = Ranker(k, tau)\n",
    "nsort = NeuralSort(k, tau)\n",
    "ndcg = Ndcg(k, tau)\n",
    "s = ranker(torch.from_numpy(x).type(torch.float32))\n",
    "ndcg(s, torch.from_numpy(y).type(torch.float32))"
   ]
  },
  {
   "cell_type": "code",
   "execution_count": 21,
   "metadata": {},
   "outputs": [
    {
     "name": "stderr",
     "output_type": "stream",
     "text": [
      "GPU available: False, used: False\n",
      "TPU available: None, using: 0 TPU cores\n",
      "\n",
      "  | Name   | Type       | Params\n",
      "--------------------------------------\n",
      "0 | layers | Sequential | 171   \n",
      "1 | loss   | Ndcg       | 0     \n",
      "--------------------------------------\n",
      "171       Trainable params\n",
      "0         Non-trainable params\n",
      "171       Total params\n",
      "0.001     Total estimated model params size (MB)\n"
     ]
    },
    {
     "data": {
      "application/vnd.jupyter.widget-view+json": {
       "model_id": "",
       "version_major": 2,
       "version_minor": 0
      },
      "text/plain": [
       "Validation sanity check: 0it [00:00, ?it/s]"
      ]
     },
     "metadata": {},
     "output_type": "display_data"
    },
    {
     "data": {
      "application/vnd.jupyter.widget-view+json": {
       "model_id": "ec39b374c91d4ed4b2b993c7765a6ab6",
       "version_major": 2,
       "version_minor": 0
      },
      "text/plain": [
       "Training: 0it [00:00, ?it/s]"
      ]
     },
     "metadata": {},
     "output_type": "display_data"
    },
    {
     "data": {
      "application/vnd.jupyter.widget-view+json": {
       "model_id": "",
       "version_major": 2,
       "version_minor": 0
      },
      "text/plain": [
       "Validating: 0it [00:00, ?it/s]"
      ]
     },
     "metadata": {},
     "output_type": "display_data"
    },
    {
     "data": {
      "application/vnd.jupyter.widget-view+json": {
       "model_id": "",
       "version_major": 2,
       "version_minor": 0
      },
      "text/plain": [
       "Validating: 0it [00:00, ?it/s]"
      ]
     },
     "metadata": {},
     "output_type": "display_data"
    },
    {
     "data": {
      "application/vnd.jupyter.widget-view+json": {
       "model_id": "",
       "version_major": 2,
       "version_minor": 0
      },
      "text/plain": [
       "Validating: 0it [00:00, ?it/s]"
      ]
     },
     "metadata": {},
     "output_type": "display_data"
    },
    {
     "data": {
      "application/vnd.jupyter.widget-view+json": {
       "model_id": "",
       "version_major": 2,
       "version_minor": 0
      },
      "text/plain": [
       "Validating: 0it [00:00, ?it/s]"
      ]
     },
     "metadata": {},
     "output_type": "display_data"
    },
    {
     "data": {
      "application/vnd.jupyter.widget-view+json": {
       "model_id": "",
       "version_major": 2,
       "version_minor": 0
      },
      "text/plain": [
       "Validating: 0it [00:00, ?it/s]"
      ]
     },
     "metadata": {},
     "output_type": "display_data"
    },
    {
     "data": {
      "application/vnd.jupyter.widget-view+json": {
       "model_id": "",
       "version_major": 2,
       "version_minor": 0
      },
      "text/plain": [
       "Validating: 0it [00:00, ?it/s]"
      ]
     },
     "metadata": {},
     "output_type": "display_data"
    },
    {
     "data": {
      "application/vnd.jupyter.widget-view+json": {
       "model_id": "",
       "version_major": 2,
       "version_minor": 0
      },
      "text/plain": [
       "Validating: 0it [00:00, ?it/s]"
      ]
     },
     "metadata": {},
     "output_type": "display_data"
    },
    {
     "data": {
      "application/vnd.jupyter.widget-view+json": {
       "model_id": "",
       "version_major": 2,
       "version_minor": 0
      },
      "text/plain": [
       "Validating: 0it [00:00, ?it/s]"
      ]
     },
     "metadata": {},
     "output_type": "display_data"
    },
    {
     "data": {
      "application/vnd.jupyter.widget-view+json": {
       "model_id": "",
       "version_major": 2,
       "version_minor": 0
      },
      "text/plain": [
       "Validating: 0it [00:00, ?it/s]"
      ]
     },
     "metadata": {},
     "output_type": "display_data"
    },
    {
     "data": {
      "application/vnd.jupyter.widget-view+json": {
       "model_id": "",
       "version_major": 2,
       "version_minor": 0
      },
      "text/plain": [
       "Validating: 0it [00:00, ?it/s]"
      ]
     },
     "metadata": {},
     "output_type": "display_data"
    },
    {
     "data": {
      "application/vnd.jupyter.widget-view+json": {
       "model_id": "",
       "version_major": 2,
       "version_minor": 0
      },
      "text/plain": [
       "Validating: 0it [00:00, ?it/s]"
      ]
     },
     "metadata": {},
     "output_type": "display_data"
    },
    {
     "data": {
      "application/vnd.jupyter.widget-view+json": {
       "model_id": "",
       "version_major": 2,
       "version_minor": 0
      },
      "text/plain": [
       "Validating: 0it [00:00, ?it/s]"
      ]
     },
     "metadata": {},
     "output_type": "display_data"
    },
    {
     "data": {
      "application/vnd.jupyter.widget-view+json": {
       "model_id": "",
       "version_major": 2,
       "version_minor": 0
      },
      "text/plain": [
       "Validating: 0it [00:00, ?it/s]"
      ]
     },
     "metadata": {},
     "output_type": "display_data"
    },
    {
     "data": {
      "application/vnd.jupyter.widget-view+json": {
       "model_id": "",
       "version_major": 2,
       "version_minor": 0
      },
      "text/plain": [
       "Validating: 0it [00:00, ?it/s]"
      ]
     },
     "metadata": {},
     "output_type": "display_data"
    },
    {
     "data": {
      "application/vnd.jupyter.widget-view+json": {
       "model_id": "",
       "version_major": 2,
       "version_minor": 0
      },
      "text/plain": [
       "Validating: 0it [00:00, ?it/s]"
      ]
     },
     "metadata": {},
     "output_type": "display_data"
    },
    {
     "data": {
      "application/vnd.jupyter.widget-view+json": {
       "model_id": "",
       "version_major": 2,
       "version_minor": 0
      },
      "text/plain": [
       "Validating: 0it [00:00, ?it/s]"
      ]
     },
     "metadata": {},
     "output_type": "display_data"
    },
    {
     "data": {
      "application/vnd.jupyter.widget-view+json": {
       "model_id": "",
       "version_major": 2,
       "version_minor": 0
      },
      "text/plain": [
       "Validating: 0it [00:00, ?it/s]"
      ]
     },
     "metadata": {},
     "output_type": "display_data"
    },
    {
     "data": {
      "application/vnd.jupyter.widget-view+json": {
       "model_id": "",
       "version_major": 2,
       "version_minor": 0
      },
      "text/plain": [
       "Validating: 0it [00:00, ?it/s]"
      ]
     },
     "metadata": {},
     "output_type": "display_data"
    },
    {
     "data": {
      "application/vnd.jupyter.widget-view+json": {
       "model_id": "",
       "version_major": 2,
       "version_minor": 0
      },
      "text/plain": [
       "Validating: 0it [00:00, ?it/s]"
      ]
     },
     "metadata": {},
     "output_type": "display_data"
    },
    {
     "data": {
      "application/vnd.jupyter.widget-view+json": {
       "model_id": "",
       "version_major": 2,
       "version_minor": 0
      },
      "text/plain": [
       "Validating: 0it [00:00, ?it/s]"
      ]
     },
     "metadata": {},
     "output_type": "display_data"
    },
    {
     "data": {
      "application/vnd.jupyter.widget-view+json": {
       "model_id": "",
       "version_major": 2,
       "version_minor": 0
      },
      "text/plain": [
       "Validating: 0it [00:00, ?it/s]"
      ]
     },
     "metadata": {},
     "output_type": "display_data"
    },
    {
     "data": {
      "application/vnd.jupyter.widget-view+json": {
       "model_id": "",
       "version_major": 2,
       "version_minor": 0
      },
      "text/plain": [
       "Validating: 0it [00:00, ?it/s]"
      ]
     },
     "metadata": {},
     "output_type": "display_data"
    },
    {
     "data": {
      "application/vnd.jupyter.widget-view+json": {
       "model_id": "",
       "version_major": 2,
       "version_minor": 0
      },
      "text/plain": [
       "Validating: 0it [00:00, ?it/s]"
      ]
     },
     "metadata": {},
     "output_type": "display_data"
    },
    {
     "data": {
      "application/vnd.jupyter.widget-view+json": {
       "model_id": "",
       "version_major": 2,
       "version_minor": 0
      },
      "text/plain": [
       "Validating: 0it [00:00, ?it/s]"
      ]
     },
     "metadata": {},
     "output_type": "display_data"
    },
    {
     "data": {
      "application/vnd.jupyter.widget-view+json": {
       "model_id": "",
       "version_major": 2,
       "version_minor": 0
      },
      "text/plain": [
       "Validating: 0it [00:00, ?it/s]"
      ]
     },
     "metadata": {},
     "output_type": "display_data"
    },
    {
     "data": {
      "application/vnd.jupyter.widget-view+json": {
       "model_id": "",
       "version_major": 2,
       "version_minor": 0
      },
      "text/plain": [
       "Validating: 0it [00:00, ?it/s]"
      ]
     },
     "metadata": {},
     "output_type": "display_data"
    },
    {
     "data": {
      "application/vnd.jupyter.widget-view+json": {
       "model_id": "",
       "version_major": 2,
       "version_minor": 0
      },
      "text/plain": [
       "Validating: 0it [00:00, ?it/s]"
      ]
     },
     "metadata": {},
     "output_type": "display_data"
    },
    {
     "data": {
      "application/vnd.jupyter.widget-view+json": {
       "model_id": "",
       "version_major": 2,
       "version_minor": 0
      },
      "text/plain": [
       "Validating: 0it [00:00, ?it/s]"
      ]
     },
     "metadata": {},
     "output_type": "display_data"
    },
    {
     "data": {
      "application/vnd.jupyter.widget-view+json": {
       "model_id": "",
       "version_major": 2,
       "version_minor": 0
      },
      "text/plain": [
       "Validating: 0it [00:00, ?it/s]"
      ]
     },
     "metadata": {},
     "output_type": "display_data"
    },
    {
     "data": {
      "application/vnd.jupyter.widget-view+json": {
       "model_id": "",
       "version_major": 2,
       "version_minor": 0
      },
      "text/plain": [
       "Validating: 0it [00:00, ?it/s]"
      ]
     },
     "metadata": {},
     "output_type": "display_data"
    },
    {
     "data": {
      "application/vnd.jupyter.widget-view+json": {
       "model_id": "",
       "version_major": 2,
       "version_minor": 0
      },
      "text/plain": [
       "Validating: 0it [00:00, ?it/s]"
      ]
     },
     "metadata": {},
     "output_type": "display_data"
    },
    {
     "data": {
      "application/vnd.jupyter.widget-view+json": {
       "model_id": "",
       "version_major": 2,
       "version_minor": 0
      },
      "text/plain": [
       "Validating: 0it [00:00, ?it/s]"
      ]
     },
     "metadata": {},
     "output_type": "display_data"
    },
    {
     "data": {
      "application/vnd.jupyter.widget-view+json": {
       "model_id": "",
       "version_major": 2,
       "version_minor": 0
      },
      "text/plain": [
       "Validating: 0it [00:00, ?it/s]"
      ]
     },
     "metadata": {},
     "output_type": "display_data"
    },
    {
     "data": {
      "application/vnd.jupyter.widget-view+json": {
       "model_id": "",
       "version_major": 2,
       "version_minor": 0
      },
      "text/plain": [
       "Validating: 0it [00:00, ?it/s]"
      ]
     },
     "metadata": {},
     "output_type": "display_data"
    },
    {
     "data": {
      "application/vnd.jupyter.widget-view+json": {
       "model_id": "",
       "version_major": 2,
       "version_minor": 0
      },
      "text/plain": [
       "Validating: 0it [00:00, ?it/s]"
      ]
     },
     "metadata": {},
     "output_type": "display_data"
    },
    {
     "data": {
      "application/vnd.jupyter.widget-view+json": {
       "model_id": "",
       "version_major": 2,
       "version_minor": 0
      },
      "text/plain": [
       "Validating: 0it [00:00, ?it/s]"
      ]
     },
     "metadata": {},
     "output_type": "display_data"
    },
    {
     "data": {
      "application/vnd.jupyter.widget-view+json": {
       "model_id": "",
       "version_major": 2,
       "version_minor": 0
      },
      "text/plain": [
       "Validating: 0it [00:00, ?it/s]"
      ]
     },
     "metadata": {},
     "output_type": "display_data"
    },
    {
     "data": {
      "application/vnd.jupyter.widget-view+json": {
       "model_id": "",
       "version_major": 2,
       "version_minor": 0
      },
      "text/plain": [
       "Validating: 0it [00:00, ?it/s]"
      ]
     },
     "metadata": {},
     "output_type": "display_data"
    },
    {
     "data": {
      "application/vnd.jupyter.widget-view+json": {
       "model_id": "",
       "version_major": 2,
       "version_minor": 0
      },
      "text/plain": [
       "Validating: 0it [00:00, ?it/s]"
      ]
     },
     "metadata": {},
     "output_type": "display_data"
    },
    {
     "data": {
      "application/vnd.jupyter.widget-view+json": {
       "model_id": "",
       "version_major": 2,
       "version_minor": 0
      },
      "text/plain": [
       "Validating: 0it [00:00, ?it/s]"
      ]
     },
     "metadata": {},
     "output_type": "display_data"
    },
    {
     "data": {
      "application/vnd.jupyter.widget-view+json": {
       "model_id": "",
       "version_major": 2,
       "version_minor": 0
      },
      "text/plain": [
       "Validating: 0it [00:00, ?it/s]"
      ]
     },
     "metadata": {},
     "output_type": "display_data"
    },
    {
     "data": {
      "application/vnd.jupyter.widget-view+json": {
       "model_id": "",
       "version_major": 2,
       "version_minor": 0
      },
      "text/plain": [
       "Validating: 0it [00:00, ?it/s]"
      ]
     },
     "metadata": {},
     "output_type": "display_data"
    },
    {
     "data": {
      "application/vnd.jupyter.widget-view+json": {
       "model_id": "",
       "version_major": 2,
       "version_minor": 0
      },
      "text/plain": [
       "Validating: 0it [00:00, ?it/s]"
      ]
     },
     "metadata": {},
     "output_type": "display_data"
    },
    {
     "data": {
      "application/vnd.jupyter.widget-view+json": {
       "model_id": "",
       "version_major": 2,
       "version_minor": 0
      },
      "text/plain": [
       "Validating: 0it [00:00, ?it/s]"
      ]
     },
     "metadata": {},
     "output_type": "display_data"
    },
    {
     "data": {
      "application/vnd.jupyter.widget-view+json": {
       "model_id": "",
       "version_major": 2,
       "version_minor": 0
      },
      "text/plain": [
       "Validating: 0it [00:00, ?it/s]"
      ]
     },
     "metadata": {},
     "output_type": "display_data"
    },
    {
     "data": {
      "application/vnd.jupyter.widget-view+json": {
       "model_id": "",
       "version_major": 2,
       "version_minor": 0
      },
      "text/plain": [
       "Validating: 0it [00:00, ?it/s]"
      ]
     },
     "metadata": {},
     "output_type": "display_data"
    },
    {
     "data": {
      "application/vnd.jupyter.widget-view+json": {
       "model_id": "",
       "version_major": 2,
       "version_minor": 0
      },
      "text/plain": [
       "Validating: 0it [00:00, ?it/s]"
      ]
     },
     "metadata": {},
     "output_type": "display_data"
    },
    {
     "data": {
      "application/vnd.jupyter.widget-view+json": {
       "model_id": "223b67f01406485cbdbaf87307062e48",
       "version_major": 2,
       "version_minor": 0
      },
      "text/plain": [
       "Validating: 0it [00:00, ?it/s]"
      ]
     },
     "metadata": {},
     "output_type": "display_data"
    },
    {
     "data": {
      "application/vnd.jupyter.widget-view+json": {
       "model_id": "403df96b6b39428280ea841e8a46f134",
       "version_major": 2,
       "version_minor": 0
      },
      "text/plain": [
       "Validating: 0it [00:00, ?it/s]"
      ]
     },
     "metadata": {},
     "output_type": "display_data"
    },
    {
     "data": {
      "application/vnd.jupyter.widget-view+json": {
       "model_id": "84b2b076f60346af8894f692c0406032",
       "version_major": 2,
       "version_minor": 0
      },
      "text/plain": [
       "Validating: 0it [00:00, ?it/s]"
      ]
     },
     "metadata": {},
     "output_type": "display_data"
    }
   ],
   "source": [
    "trainer = pl.Trainer(\n",
    "    max_epochs=50,\n",
    "    # accelerator='cpu',\n",
    "    # devices=1,\n",
    "    callbacks=[\n",
    "        pl.callbacks.early_stopping.EarlyStopping(monitor=\"val_loss\", patience=15),\n",
    "        pl.callbacks.LearningRateMonitor(logging_interval=\"step\"),\n",
    "        pl.callbacks.ModelCheckpoint(monitor=\"val_loss\"),\n",
    "        # pl.callbacks.RichProgressBar(leave=True),\n",
    "    ])\n",
    "\n",
    "k = 10\n",
    "mode = \"log\"\n",
    "ranker = Ranker(k, 0.5)\n",
    "data = Data(k, mode=mode)\n",
    "\n",
    "trainer.fit(\n",
    "    ranker, \n",
    "    data,\n",
    ")\n",
    "\n",
    "pass"
   ]
  },
  {
   "cell_type": "code",
   "execution_count": 22,
   "metadata": {},
   "outputs": [
    {
     "data": {
      "image/png": "[encoded data removed]",
      "text/plain": [
       "<Figure size 1200x500 with 2 Axes>"
      ]
     },
     "metadata": {},
     "output_type": "display_data"
    }
   ],
   "source": [
    "N = 1000\n",
    "\n",
    "x = np.linspace(-3, 3, N).reshape((N, 1, 1))\n",
    "\n",
    "pos, y_pos = prepare_data(x, np.ones((N, 1, 1)), mode)\n",
    "s_pos = -ranker(torch.from_numpy(pos.astype(\"float32\"))).detach().numpy()\n",
    "\n",
    "neg, y_neg = prepare_data(x, np.zeros((N, 1, 1)), mode)\n",
    "s_neg = -ranker(torch.from_numpy(neg.astype(\"float32\"))).detach().numpy()\n",
    "\n",
    "figure, axes = plt.subplots(ncols=2, figsize=(12, 5))\n",
    "axes[1].plot(x.squeeze((1, 2)), s_pos.squeeze((1, 2)), label=\"positive\")\n",
    "axes[1].plot(x.squeeze((1, 2)), s_neg.squeeze((1, 2)), label=\"negative\")\n",
    "axes[1].legend()\n",
    "axes[1].set_title(\"Model\")\n",
    "\n",
    "axes[0].plot(x.squeeze((1, 2)), y_pos.squeeze((1, 2)), label=\"positive\")\n",
    "axes[0].plot(x.squeeze((1, 2)), y_neg.squeeze((1, 2)), label=\"negative\")\n",
    "axes[0].legend()\n",
    "axes[0].set_title(\"Real\")\n",
    "\n",
    "pass"
   ]
  },
  {
   "cell_type": "code",
   "execution_count": 23,
   "metadata": {},
   "outputs": [],
   "source": [
    "N = 10000\n",
    "x, y = generate_data(k, N, mode)\n",
    "scores = ranker(torch.from_numpy(x.astype(\"float32\"))).detach().numpy()\n",
    "\n",
    "stats = np.zeros((2, k, 2*k-1))\n",
    "for i in range(N):\n",
    "    flag_i = int(x[i, 0, 1])\n",
    "    y_i = y[i].squeeze()\n",
    "    score_i = scores[i].squeeze()\n",
    "\n",
    "    true_sort = np.argsort(-y_i)\n",
    "    pred_sort = np.argsort(score_i)\n",
    "\n",
    "    for j in range(k):\n",
    "        delta = np.where(pred_sort == true_sort[j])[0][0] - j\n",
    "        stats[flag_i, j, delta + k - 1] += 1"
   ]
  },
  {
   "cell_type": "code",
   "execution_count": 24,
   "metadata": {},
   "outputs": [
    {
     "data": {
      "image/png": "[encoded data removed]",
      "text/plain": [
       "<Figure size 1200x500 with 2 Axes>"
      ]
     },
     "metadata": {},
     "output_type": "display_data"
    }
   ],
   "source": [
    "figure, axes = plt.subplots(ncols=2, figsize=(12, 5))\n",
    "\n",
    "axes[0].matshow(stats[0], cmap=plt.cm.Reds)\n",
    "axes[0].set_xticks(np.arange(2*k - 1), np.arange(2*k - 1) - k + 1)\n",
    "axes[0].set_title(\"Negative\")\n",
    "axes[0].set_ylabel(\"position\")\n",
    "\n",
    "axes[1].matshow(stats[1], cmap=plt.cm.Reds)\n",
    "axes[1].set_xticks(np.arange(2*k - 1), np.arange(2*k - 1) - k + 1)\n",
    "axes[1].set_title(\"Positive\")\n",
    "\n",
    "figure.tight_layout()\n",
    "\n",
    "pass"
   ]
  },
  {
   "cell_type": "code",
   "execution_count": null,
   "metadata": {},
   "outputs": [],
   "source": []
  }
 ],
 "metadata": {
  "kernelspec": {
   "display_name": "Python 3 (ipykernel)",
   "language": "python",
   "name": "python3"
  },
  "language_info": {
   "codemirror_mode": {
    "name": "ipython",
    "version": 3
   },
   "file_extension": ".py",
   "mimetype": "text/x-python",
   "name": "python",
   "nbconvert_exporter": "python",
   "pygments_lexer": "ipython3",
   "version": "3.8.0"
  }
 },
 "nbformat": 4,
 "nbformat_minor": 4
}
