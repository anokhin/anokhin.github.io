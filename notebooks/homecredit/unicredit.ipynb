{
 "cells": [
  {
   "cell_type": "code",
   "execution_count": 1,
   "metadata": {
    "collapsed": false
   },
   "outputs": [
    {
     "name": "stdout",
     "output_type": "stream",
     "text": [
      "Populating the interactive namespace from numpy and matplotlib\n"
     ]
    }
   ],
   "source": [
    "import pandas as pd\n",
    "import datetime as dt\n",
    "import numpy as np\n",
    "\n",
    "import pylab as pl\n",
    "import seaborn as sns\n",
    "\n",
    "%pylab inline"
   ]
  },
  {
   "cell_type": "code",
   "execution_count": 2,
   "metadata": {
    "collapsed": true
   },
   "outputs": [],
   "source": [
    "IN_PATH = '/Users/anokhin/Desktop/train1_matched'\n",
    "OUT_PATH = '/Users/anokhin/Desktop/unicredit_deposit.la.jss'"
   ]
  },
  {
   "cell_type": "code",
   "execution_count": 3,
   "metadata": {
    "collapsed": false
   },
   "outputs": [
    {
     "name": "stdout",
     "output_type": "stream",
     "text": [
      "2016-05-16 00:00:00\n"
     ]
    },
    {
     "data": {
      "text/html": [
       "<div>\n",
       "<table border=\"1\" class=\"dataframe\">\n",
       "  <thead>\n",
       "    <tr style=\"text-align: right;\">\n",
       "      <th></th>\n",
       "      <th>cuid</th>\n",
       "      <th>match</th>\n",
       "      <th>emails</th>\n",
       "      <th>okids</th>\n",
       "      <th>vkids</th>\n",
       "      <th>age</th>\n",
       "      <th>sex</th>\n",
       "      <th>retro_dt</th>\n",
       "    </tr>\n",
       "  </thead>\n",
       "  <tbody>\n",
       "    <tr>\n",
       "      <th>0</th>\n",
       "      <td>9005998899</td>\n",
       "      <td>5</td>\n",
       "      <td>OVMeird4ZQzNO7UWFv8sB4FZ5jAGYw5E</td>\n",
       "      <td>NaN</td>\n",
       "      <td>5098112</td>\n",
       "      <td>0.211675</td>\n",
       "      <td>1.0</td>\n",
       "      <td>2016-07-01</td>\n",
       "    </tr>\n",
       "    <tr>\n",
       "      <th>1</th>\n",
       "      <td>9013002453</td>\n",
       "      <td>3</td>\n",
       "      <td>NaN</td>\n",
       "      <td>NaN</td>\n",
       "      <td>20815142</td>\n",
       "      <td>0.664691</td>\n",
       "      <td>1.0</td>\n",
       "      <td>2016-06-07</td>\n",
       "    </tr>\n",
       "    <tr>\n",
       "      <th>2</th>\n",
       "      <td>9013005077</td>\n",
       "      <td>5</td>\n",
       "      <td>NaN</td>\n",
       "      <td>109629095762</td>\n",
       "      <td>723807,27454488</td>\n",
       "      <td>0.499219</td>\n",
       "      <td>0.0</td>\n",
       "      <td>2016-07-01</td>\n",
       "    </tr>\n",
       "    <tr>\n",
       "      <th>3</th>\n",
       "      <td>9013005077</td>\n",
       "      <td>0</td>\n",
       "      <td>mShlB/cSJQFbI02of+SFkYFZ5jAGYw5E</td>\n",
       "      <td>NaN</td>\n",
       "      <td>NaN</td>\n",
       "      <td>0.499219</td>\n",
       "      <td>0.0</td>\n",
       "      <td>2016-07-01</td>\n",
       "    </tr>\n",
       "    <tr>\n",
       "      <th>4</th>\n",
       "      <td>9013062332</td>\n",
       "      <td>3</td>\n",
       "      <td>NaN</td>\n",
       "      <td>NaN</td>\n",
       "      <td>368299610</td>\n",
       "      <td>0.729167</td>\n",
       "      <td>0.0</td>\n",
       "      <td>2016-07-01</td>\n",
       "    </tr>\n",
       "  </tbody>\n",
       "</table>\n",
       "</div>"
      ],
      "text/plain": [
       "         cuid  match                            emails         okids  \\\n",
       "0  9005998899      5  OVMeird4ZQzNO7UWFv8sB4FZ5jAGYw5E           NaN   \n",
       "1  9013002453      3                               NaN           NaN   \n",
       "2  9013005077      5                               NaN  109629095762   \n",
       "3  9013005077      0  mShlB/cSJQFbI02of+SFkYFZ5jAGYw5E           NaN   \n",
       "4  9013062332      3                               NaN           NaN   \n",
       "\n",
       "             vkids       age  sex   retro_dt  \n",
       "0          5098112  0.211675  1.0 2016-07-01  \n",
       "1         20815142  0.664691  1.0 2016-06-07  \n",
       "2  723807,27454488  0.499219  0.0 2016-07-01  \n",
       "3              NaN  0.499219  0.0 2016-07-01  \n",
       "4        368299610  0.729167  0.0 2016-07-01  "
      ]
     },
     "execution_count": 3,
     "metadata": {},
     "output_type": "execute_result"
    }
   ],
   "source": [
    "ts_parser = lambda ts: dt.datetime.strptime(ts, \"%Y%m%d\")\n",
    "df1 = pd.read_csv(\n",
    "    IN_PATH, sep=\"\\t\", \n",
    "    header=None, names=['cuid', 'match', 'emails', 'okids', 'vkids', 'age', 'sex', 'retro_dt'],\n",
    "    converters={'retro_dt': ts_parser},\n",
    "    dtype={\"okids\": str, \"vkids\": str}\n",
    ")\n",
    "print df1[\"retro_dt\"].min()\n",
    "df1.head()"
   ]
  },
  {
   "cell_type": "code",
   "execution_count": 4,
   "metadata": {
    "collapsed": false
   },
   "outputs": [
    {
     "data": {
      "text/plain": [
       "<matplotlib.axes._subplots.AxesSubplot at 0x10f46e1d0>"
      ]
     },
     "execution_count": 4,
     "metadata": {},
     "output_type": "execute_result"
    },
    {
     "data": {
      "image/png": "[encoded data removed]",
      "text/plain": [
       "<matplotlib.figure.Figure at 0x10f47e310>"
      ]
     },
     "metadata": {},
     "output_type": "display_data"
    }
   ],
   "source": [
    "df1.match.hist()"
   ]
  },
  {
   "cell_type": "code",
   "execution_count": 7,
   "metadata": {
    "collapsed": false
   },
   "outputs": [
    {
     "data": {
      "image/png": "[encoded data removed]",
      "text/plain": [
       "<matplotlib.figure.Figure at 0x110559f90>"
      ]
     },
     "metadata": {},
     "output_type": "display_data"
    }
   ],
   "source": [
    "pl.figure(figsize=(10, 4))\n",
    "df1['retro_dt'].hist(bins=100)\n",
    "pl.show()"
   ]
  },
  {
   "cell_type": "code",
   "execution_count": 8,
   "metadata": {
    "collapsed": true
   },
   "outputs": [],
   "source": [
    "USER_PATTERN = '{\"vid\":\"%s\",\"okid\":%s,\"email\":%s,\"vkid\":%s,\"category\":{\"int\":%d},\"start\":{\"long\":%d},\"end\":{\"long\":%d}}'\n",
    "STRING_PATTERN = '{\"string\":\"%s\"}'\n",
    "MONTH_SECONDS = 31 * 24 * 60 * 60"
   ]
  },
  {
   "cell_type": "code",
   "execution_count": 9,
   "metadata": {
    "collapsed": false
   },
   "outputs": [],
   "source": [
    "with open(OUT_PATH, \"w\") as out_file:\n",
    "    for i, row in df1[df1.match >= 3].iterrows():\n",
    "        end_ts = int(row[\"retro_dt\"].strftime(\"%s\"))\n",
    "        start_ts = end_ts - MONTH_SECONDS        \n",
    "        \n",
    "        emails = row[\"emails\"].split(\",\") if pd.notnull(row[\"emails\"]) else [\"\"]\n",
    "        okids = row[\"okids\"].split(\",\") if pd.notnull(row[\"okids\"]) else [\"\"]\n",
    "        vkids = row[\"vkids\"].split(\",\") if pd.notnull(row[\"vkids\"]) else [\"\"]\n",
    "        \n",
    "        for email in emails:\n",
    "            for okid in okids:\n",
    "                for vkid in vkids:\n",
    "                    em = STRING_PATTERN % email if email else \"null\"\n",
    "                    ok = STRING_PATTERN % okid if okid else \"null\"\n",
    "                    vk = STRING_PATTERN % vkid if vkid else \"null\"\n",
    "                    print >> out_file, USER_PATTERN % (\"\", ok, em, vk, 1, start_ts, end_ts)"
   ]
  },
  {
   "cell_type": "code",
   "execution_count": 10,
   "metadata": {
    "collapsed": false
   },
   "outputs": [
    {
     "name": "stdout",
     "output_type": "stream",
     "text": [
      "9005998899\t5\tOVMeird4ZQzNO7UWFv8sB4FZ5jAGYw5E\t\t5098112\t0.211675\t1.00\t20160701\n",
      "9013002453\t3\t\t\t20815142\t0.664691\t1.00\t20160607\n",
      "9013005077\t5\t\t109629095762\t723807,27454488\t0.499219\t0.00\t20160701\n",
      "9013005077\t0\tmShlB/cSJQFbI02of+SFkYFZ5jAGYw5E\t\t\t0.499219\t0.00\t20160701\n",
      "9013062332\t3\t\t\t368299610\t0.729167\t0.00\t20160701\n",
      "9013064860\t5\tLsNmtHf33qnUNBdSwhgwXw==\t\t1154751\t0.384441\t1.00\t20160805\n",
      "9015107780\t5\t\t47735284519\t\t0.421863\t0.00\t20160725\n",
      "9021700694\t0\tY7jQkT4k8Q2ImHFoapNNw0tsxnhZrame5NURDqEK9Us=,TBbhLXHCyEzyzOX5DFkU8NQ0F1LCGDBf,Y7jQkT4k8Q2dd11kZzE99eTVEQ6hCvVL,9UuE2AwkZtJ1yqhRxPqQf09WhNM9oR5n,FzwRqSF2obseTpvv0O5uV4QcyRh9bMJK\t509461548432,509673594038\t313443538\t0.724849\t0.00\t20160711\n",
      "9021925622\t5\t\t332960575166\t35332576\t0.600751\t1.00\t20160614\n",
      "9021925622\t3\t\t366910467615\t\t0.600751\t1.00\t20160614\n",
      "{\"vid\":\"\",\"okid\":null,\"email\":{\"string\":\"OVMeird4ZQzNO7UWFv8sB4FZ5jAGYw5E\"},\"vkid\":{\"string\":\"5098112\"},\"category\":{\"int\":1},\"start\":{\"long\":1464642000},\"end\":{\"long\":1467320400}}\n",
      "{\"vid\":\"\",\"okid\":null,\"email\":null,\"vkid\":{\"string\":\"20815142\"},\"category\":{\"int\":1},\"start\":{\"long\":1462568400},\"end\":{\"long\":1465246800}}\n",
      "{\"vid\":\"\",\"okid\":{\"string\":\"109629095762\"},\"email\":null,\"vkid\":{\"string\":\"723807\"},\"category\":{\"int\":1},\"start\":{\"long\":1464642000},\"end\":{\"long\":1467320400}}\n",
      "{\"vid\":\"\",\"okid\":{\"string\":\"109629095762\"},\"email\":null,\"vkid\":{\"string\":\"27454488\"},\"category\":{\"int\":1},\"start\":{\"long\":1464642000},\"end\":{\"long\":1467320400}}\n",
      "{\"vid\":\"\",\"okid\":null,\"email\":null,\"vkid\":{\"string\":\"368299610\"},\"category\":{\"int\":1},\"start\":{\"long\":1464642000},\"end\":{\"long\":1467320400}}\n",
      "{\"vid\":\"\",\"okid\":null,\"email\":{\"string\":\"LsNmtHf33qnUNBdSwhgwXw==\"},\"vkid\":{\"string\":\"1154751\"},\"category\":{\"int\":1},\"start\":{\"long\":1467666000},\"end\":{\"long\":1470344400}}\n",
      "{\"vid\":\"\",\"okid\":{\"string\":\"47735284519\"},\"email\":null,\"vkid\":null,\"category\":{\"int\":1},\"start\":{\"long\":1466715600},\"end\":{\"long\":1469394000}}\n",
      "{\"vid\":\"\",\"okid\":{\"string\":\"332960575166\"},\"email\":null,\"vkid\":{\"string\":\"35332576\"},\"category\":{\"int\":1},\"start\":{\"long\":1463173200},\"end\":{\"long\":1465851600}}\n",
      "{\"vid\":\"\",\"okid\":{\"string\":\"366910467615\"},\"email\":null,\"vkid\":null,\"category\":{\"int\":1},\"start\":{\"long\":1463173200},\"end\":{\"long\":1465851600}}\n",
      "{\"vid\":\"\",\"okid\":null,\"email\":null,\"vkid\":{\"string\":\"71078923\"},\"category\":{\"int\":1},\"start\":{\"long\":1462482000},\"end\":{\"long\":1465160400}}\n"
     ]
    }
   ],
   "source": [
    "%%bash\n",
    "head /Users/anokhin/Desktop/train1_matched\n",
    "head /Users/anokhin/Desktop/unicredit_deposit.la.jss"
   ]
  },
  {
   "cell_type": "code",
   "execution_count": 11,
   "metadata": {
    "collapsed": false
   },
   "outputs": [
    {
     "name": "stdout",
     "output_type": "stream",
     "text": [
      "    9768 /Users/anokhin/Desktop/unicredit_deposit.la.jss\n"
     ]
    }
   ],
   "source": [
    "%%bash\n",
    "\n",
    "wc -l /Users/anokhin/Desktop/unicredit_deposit.la.jss"
   ]
  },
  {
   "cell_type": "code",
   "execution_count": null,
   "metadata": {
    "collapsed": true
   },
   "outputs": [],
   "source": []
  }
 ],
 "metadata": {
  "kernelspec": {
   "display_name": "Python 2",
   "language": "python",
   "name": "python2"
  },
  "language_info": {
   "codemirror_mode": {
    "name": "ipython",
    "version": 2
   },
   "file_extension": ".py",
   "mimetype": "text/x-python",
   "name": "python",
   "nbconvert_exporter": "python",
   "pygments_lexer": "ipython2",
   "version": "2.7.9"
  }
 },
 "nbformat": 4,
 "nbformat_minor": 0
}
