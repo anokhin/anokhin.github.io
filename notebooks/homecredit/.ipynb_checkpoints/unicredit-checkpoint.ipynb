{
 "cells": [
  {
   "cell_type": "code",
   "execution_count": 1,
   "metadata": {
    "collapsed": false
   },
   "outputs": [
    {
     "name": "stdout",
     "output_type": "stream",
     "text": [
      "Populating the interactive namespace from numpy and matplotlib\n"
     ]
    }
   ],
   "source": [
    "import pandas as pd\n",
    "import datetime as dt\n",
    "import numpy as np\n",
    "\n",
    "import pylab as pl\n",
    "import seaborn as sns\n",
    "\n",
    "%pylab inline"
   ]
  },
  {
   "cell_type": "code",
   "execution_count": 2,
   "metadata": {
    "collapsed": true
   },
   "outputs": [],
   "source": [
    "IN_PATH = '/Users/anokhin/Desktop/leto_la_sample'\n",
    "OUT_PATH = '/Users/anokhin/Desktop/leto.la.jss'"
   ]
  },
  {
   "cell_type": "code",
   "execution_count": 3,
   "metadata": {
    "collapsed": false
   },
   "outputs": [
    {
     "name": "stdout",
     "output_type": "stream",
     "text": [
      "2016-03-30 00:00:00\n"
     ]
    },
    {
     "data": {
      "text/html": [
       "<div>\n",
       "<table border=\"1\" class=\"dataframe\">\n",
       "  <thead>\n",
       "    <tr style=\"text-align: right;\">\n",
       "      <th></th>\n",
       "      <th>cuid</th>\n",
       "      <th>match</th>\n",
       "      <th>emails</th>\n",
       "      <th>okids</th>\n",
       "      <th>vkids</th>\n",
       "      <th>age</th>\n",
       "      <th>sex</th>\n",
       "      <th>retro_dt</th>\n",
       "    </tr>\n",
       "  </thead>\n",
       "  <tbody>\n",
       "    <tr>\n",
       "      <th>0</th>\n",
       "      <td>14781408</td>\n",
       "      <td>3</td>\n",
       "      <td>jDgnkpTNyuZHv8MwTj8hpeTVEQ6hCvVL</td>\n",
       "      <td>567855347586</td>\n",
       "      <td>NaN</td>\n",
       "      <td>0.135148</td>\n",
       "      <td>1.0</td>\n",
       "      <td>2016-03-30</td>\n",
       "    </tr>\n",
       "    <tr>\n",
       "      <th>1</th>\n",
       "      <td>14781409</td>\n",
       "      <td>3</td>\n",
       "      <td>NaN</td>\n",
       "      <td>NaN</td>\n",
       "      <td>65161229</td>\n",
       "      <td>0.595531</td>\n",
       "      <td>0.0</td>\n",
       "      <td>2016-03-30</td>\n",
       "    </tr>\n",
       "    <tr>\n",
       "      <th>2</th>\n",
       "      <td>14781413</td>\n",
       "      <td>5</td>\n",
       "      <td>NaN</td>\n",
       "      <td>NaN</td>\n",
       "      <td>292943847</td>\n",
       "      <td>0.477117</td>\n",
       "      <td>0.0</td>\n",
       "      <td>2016-03-30</td>\n",
       "    </tr>\n",
       "    <tr>\n",
       "      <th>3</th>\n",
       "      <td>14781413</td>\n",
       "      <td>0</td>\n",
       "      <td>51b6EvVlPkmsEzq3xp2OjTHK8/7P2K/LhBzJGH1swko=</td>\n",
       "      <td>560950778216,558295525847</td>\n",
       "      <td>NaN</td>\n",
       "      <td>0.477117</td>\n",
       "      <td>0.0</td>\n",
       "      <td>2016-03-30</td>\n",
       "    </tr>\n",
       "    <tr>\n",
       "      <th>4</th>\n",
       "      <td>14781426</td>\n",
       "      <td>0</td>\n",
       "      <td>jZfnVSSzaaYsk6L4nupl4dH/ZBVowazY,CBW354BuQZ4in...</td>\n",
       "      <td>559361859446</td>\n",
       "      <td>324775130</td>\n",
       "      <td>0.346970</td>\n",
       "      <td>0.0</td>\n",
       "      <td>2016-03-30</td>\n",
       "    </tr>\n",
       "  </tbody>\n",
       "</table>\n",
       "</div>"
      ],
      "text/plain": [
       "       cuid  match                                             emails  \\\n",
       "0  14781408      3                   jDgnkpTNyuZHv8MwTj8hpeTVEQ6hCvVL   \n",
       "1  14781409      3                                                NaN   \n",
       "2  14781413      5                                                NaN   \n",
       "3  14781413      0       51b6EvVlPkmsEzq3xp2OjTHK8/7P2K/LhBzJGH1swko=   \n",
       "4  14781426      0  jZfnVSSzaaYsk6L4nupl4dH/ZBVowazY,CBW354BuQZ4in...   \n",
       "\n",
       "                       okids      vkids       age  sex   retro_dt  \n",
       "0               567855347586        NaN  0.135148  1.0 2016-03-30  \n",
       "1                        NaN   65161229  0.595531  0.0 2016-03-30  \n",
       "2                        NaN  292943847  0.477117  0.0 2016-03-30  \n",
       "3  560950778216,558295525847        NaN  0.477117  0.0 2016-03-30  \n",
       "4               559361859446  324775130  0.346970  0.0 2016-03-30  "
      ]
     },
     "execution_count": 3,
     "metadata": {},
     "output_type": "execute_result"
    }
   ],
   "source": [
    "ts_parser = lambda ts: dt.datetime.strptime(ts, \"%Y%m%d\")\n",
    "df1 = pd.read_csv(\n",
    "    IN_PATH, sep=\"\\t\", \n",
    "    header=None, names=['cuid', 'match', 'emails', 'okids', 'vkids', 'age', 'sex', 'retro_dt'],\n",
    "    converters={'retro_dt': ts_parser},\n",
    "    dtype={\"okids\": str, \"vkids\": str}\n",
    ")\n",
    "print df1[\"retro_dt\"].min()\n",
    "df1.head()"
   ]
  },
  {
   "cell_type": "code",
   "execution_count": 8,
   "metadata": {
    "collapsed": false
   },
   "outputs": [
    {
     "data": {
      "text/plain": [
       "<matplotlib.axes._subplots.AxesSubplot at 0x111837e90>"
      ]
     },
     "execution_count": 8,
     "metadata": {},
     "output_type": "execute_result"
    },
    {
     "data": {
      "image/png": "[encoded data removed]",
      "text/plain": [
       "<matplotlib.figure.Figure at 0x10aa6a6d0>"
      ]
     },
     "metadata": {},
     "output_type": "display_data"
    }
   ],
   "source": [
    "df1.match.hist()"
   ]
  },
  {
   "cell_type": "code",
   "execution_count": 4,
   "metadata": {
    "collapsed": false
   },
   "outputs": [
    {
     "data": {
      "image/png": "[encoded data removed]",
      "text/plain": [
       "<matplotlib.figure.Figure at 0x10ed94790>"
      ]
     },
     "metadata": {},
     "output_type": "display_data"
    }
   ],
   "source": [
    "df1['retro_dt'].hist(bins=100)\n",
    "pl.show()"
   ]
  },
  {
   "cell_type": "code",
   "execution_count": 5,
   "metadata": {
    "collapsed": true
   },
   "outputs": [],
   "source": [
    "USER_PATTERN = '{\"vid\":\"%s\",\"okid\":%s,\"email\":%s,\"vkid\":%s,\"category\":{\"int\":%d},\"start\":{\"long\":%d},\"end\":{\"long\":%d}}'\n",
    "STRING_PATTERN = '{\"string\":\"%s\"}'\n",
    "MONTH_SECONDS = 31 * 24 * 60 * 60"
   ]
  },
  {
   "cell_type": "code",
   "execution_count": 9,
   "metadata": {
    "collapsed": false
   },
   "outputs": [],
   "source": [
    "with open(OUT_PATH, \"w\") as out_file:\n",
    "    for i, row in df1[df1.match >= 3].iterrows():\n",
    "        end_ts = int(row[\"retro_dt\"].strftime(\"%s\"))\n",
    "        start_ts = end_ts - MONTH_SECONDS        \n",
    "        \n",
    "        emails = row[\"emails\"].split(\",\") if pd.notnull(row[\"emails\"]) else [\"\"]\n",
    "        okids = row[\"okids\"].split(\",\") if pd.notnull(row[\"okids\"]) else [\"\"]\n",
    "        vkids = row[\"vkids\"].split(\",\") if pd.notnull(row[\"vkids\"]) else [\"\"]\n",
    "        \n",
    "        for email in emails:\n",
    "            for okid in okids:\n",
    "                for vkid in vkids:\n",
    "                    em = STRING_PATTERN % email if email else \"null\"\n",
    "                    ok = STRING_PATTERN % okid if okid else \"null\"\n",
    "                    vk = STRING_PATTERN % vkid if vkid else \"null\"\n",
    "                    print >> out_file, USER_PATTERN % (\"\", ok, em, vk, 1, start_ts, end_ts)"
   ]
  },
  {
   "cell_type": "code",
   "execution_count": 11,
   "metadata": {
    "collapsed": false
   },
   "outputs": [
    {
     "name": "stdout",
     "output_type": "stream",
     "text": [
      "14781408\t3\tjDgnkpTNyuZHv8MwTj8hpeTVEQ6hCvVL\t567855347586\t\t0.135148\t1.00\t20160330\n",
      "14781409\t3\t\t\t65161229\t0.595531\t0.00\t20160330\n",
      "14781413\t5\t\t\t292943847\t0.477117\t0.00\t20160330\n",
      "14781413\t0\t51b6EvVlPkmsEzq3xp2OjTHK8/7P2K/LhBzJGH1swko=\t560950778216,558295525847\t\t0.477117\t0.00\t20160330\n",
      "14781426\t0\tjZfnVSSzaaYsk6L4nupl4dH/ZBVowazY,CBW354BuQZ4in5JzKuGQKA==\t559361859446\t324775130\t0.346970\t0.00\t20160330\n",
      "14781431\t5\t\t\t55088526\t0.221409\t0.00\t20160330\n",
      "14781449\t5\to5DzjjEAeDKTmjum82629mxHye01iEn9,reEmI4+Vn1YZMWa2qu6m709WhNM9oR5n\t459202479072\t65325967\t0.273639\t0.00\t20160330\n",
      "14781449\t0\tuhQEt+qJMO2EHMkYfWzCSg==\t\t\t0.273639\t0.00\t20160330\n",
      "14781474\t5\twhRgsopopklLbMZ4Wa2pnuTVEQ6hCvVL\t576165353245\t240622679\t0.259563\t0.00\t20160330\n",
      "14781474\t3\t\t516179226043\t\t0.259563\t0.00\t20160330\n",
      "{\"vid\":\"\",\"okid\":{\"string\":\"567855347586\"},\"email\":{\"string\":\"jDgnkpTNyuZHv8MwTj8hpeTVEQ6hCvVL\"},\"vkid\":null,\"category\":{\"int\":1},\"start\":{\"long\":1456606800},\"end\":{\"long\":1459285200}}\n",
      "{\"vid\":\"\",\"okid\":null,\"email\":null,\"vkid\":{\"string\":\"65161229\"},\"category\":{\"int\":1},\"start\":{\"long\":1456606800},\"end\":{\"long\":1459285200}}\n",
      "{\"vid\":\"\",\"okid\":null,\"email\":null,\"vkid\":{\"string\":\"292943847\"},\"category\":{\"int\":1},\"start\":{\"long\":1456606800},\"end\":{\"long\":1459285200}}\n",
      "{\"vid\":\"\",\"okid\":null,\"email\":null,\"vkid\":{\"string\":\"55088526\"},\"category\":{\"int\":1},\"start\":{\"long\":1456606800},\"end\":{\"long\":1459285200}}\n",
      "{\"vid\":\"\",\"okid\":{\"string\":\"459202479072\"},\"email\":{\"string\":\"o5DzjjEAeDKTmjum82629mxHye01iEn9\"},\"vkid\":{\"string\":\"65325967\"},\"category\":{\"int\":1},\"start\":{\"long\":1456606800},\"end\":{\"long\":1459285200}}\n",
      "{\"vid\":\"\",\"okid\":{\"string\":\"459202479072\"},\"email\":{\"string\":\"reEmI4+Vn1YZMWa2qu6m709WhNM9oR5n\"},\"vkid\":{\"string\":\"65325967\"},\"category\":{\"int\":1},\"start\":{\"long\":1456606800},\"end\":{\"long\":1459285200}}\n",
      "{\"vid\":\"\",\"okid\":{\"string\":\"576165353245\"},\"email\":{\"string\":\"whRgsopopklLbMZ4Wa2pnuTVEQ6hCvVL\"},\"vkid\":{\"string\":\"240622679\"},\"category\":{\"int\":1},\"start\":{\"long\":1456606800},\"end\":{\"long\":1459285200}}\n",
      "{\"vid\":\"\",\"okid\":{\"string\":\"516179226043\"},\"email\":null,\"vkid\":null,\"category\":{\"int\":1},\"start\":{\"long\":1456606800},\"end\":{\"long\":1459285200}}\n",
      "{\"vid\":\"\",\"okid\":null,\"email\":{\"string\":\"EIuvCpDql7465Df1+pXKs4QcyRh9bMJK\"},\"vkid\":{\"string\":\"30012391\"},\"category\":{\"int\":1},\"start\":{\"long\":1456606800},\"end\":{\"long\":1459285200}}\n",
      "{\"vid\":\"\",\"okid\":{\"string\":\"355983468613\"},\"email\":null,\"vkid\":null,\"category\":{\"int\":1},\"start\":{\"long\":1456606800},\"end\":{\"long\":1459285200}}\n"
     ]
    }
   ],
   "source": [
    "%%bash\n",
    "head /Users/anokhin/Desktop/leto_la_sample\n",
    "head /Users/anokhin/Desktop/leto.la.jss"
   ]
  },
  {
   "cell_type": "code",
   "execution_count": 10,
   "metadata": {
    "collapsed": false
   },
   "outputs": [
    {
     "name": "stdout",
     "output_type": "stream",
     "text": [
      "   86714 /Users/anokhin/Desktop/leto.la.jss\n"
     ]
    }
   ],
   "source": [
    "%%bash\n",
    "\n",
    "wc -l /Users/anokhin/Desktop/leto.la.jss"
   ]
  },
  {
   "cell_type": "code",
   "execution_count": null,
   "metadata": {
    "collapsed": true
   },
   "outputs": [],
   "source": []
  }
 ],
 "metadata": {
  "kernelspec": {
   "display_name": "Python 2",
   "language": "python",
   "name": "python2"
  },
  "language_info": {
   "codemirror_mode": {
    "name": "ipython",
    "version": 2
   },
   "file_extension": ".py",
   "mimetype": "text/x-python",
   "name": "python",
   "nbconvert_exporter": "python",
   "pygments_lexer": "ipython2",
   "version": "2.7.9"
  }
 },
 "nbformat": 4,
 "nbformat_minor": 0
}
